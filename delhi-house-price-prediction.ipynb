{
 "cells": [
  {
   "cell_type": "markdown",
   "metadata": {},
   "source": [
    "# **Delhi House Price Prediction**"
   ]
  },
  {
   "cell_type": "markdown",
   "metadata": {},
   "source": [
    "### Importing Required Libraries"
   ]
  },
  {
   "cell_type": "code",
   "execution_count": 17,
   "metadata": {
    "execution": {
     "iopub.execute_input": "2021-07-06T16:44:06.746731Z",
     "iopub.status.busy": "2021-07-06T16:44:06.746338Z",
     "iopub.status.idle": "2021-07-06T16:44:06.754998Z",
     "shell.execute_reply": "2021-07-06T16:44:06.753954Z",
     "shell.execute_reply.started": "2021-07-06T16:44:06.746699Z"
    }
   },
   "outputs": [],
   "source": [
    "import numpy as np\n",
    "import pandas as pd\n",
    "import matplotlib.pyplot as plt\n",
    "import seaborn as sns\n",
    "\n",
    "from sklearn.model_selection import train_test_split\n",
    "from sklearn.preprocessing import StandardScaler\n",
    "\n",
    "from sklearn.linear_model import LinearRegression,Lasso,Ridge\n",
    "from sklearn.neighbors import KNeighborsRegressor\n",
    "from sklearn.tree import DecisionTreeRegressor\n",
    "from sklearn.ensemble import RandomForestRegressor, GradientBoostingRegressor\n",
    "from xgboost import XGBRegressor\n",
    "from lightgbm import LGBMRegressor\n",
    "from catboost import CatBoostRegressor\n",
    "from sklearn.metrics import r2_score\n",
    "from sklearn.model_selection import GridSearchCV\n",
    "\n",
    "import warnings\n",
    "warnings.filterwarnings(action='ignore')"
   ]
  },
  {
   "cell_type": "markdown",
   "metadata": {},
   "source": [
    "### Load Data"
   ]
  },
  {
   "cell_type": "code",
   "execution_count": 2,
   "metadata": {
    "execution": {
     "iopub.execute_input": "2021-07-06T16:32:36.578384Z",
     "iopub.status.busy": "2021-07-06T16:32:36.578084Z",
     "iopub.status.idle": "2021-07-06T16:32:36.604524Z",
     "shell.execute_reply": "2021-07-06T16:32:36.603436Z",
     "shell.execute_reply.started": "2021-07-06T16:32:36.578355Z"
    }
   },
   "outputs": [],
   "source": [
    "df = pd.read_csv('MagicBricks.csv')"
   ]
  },
  {
   "cell_type": "code",
   "execution_count": 3,
   "metadata": {
    "execution": {
     "iopub.execute_input": "2021-07-06T16:32:36.606667Z",
     "iopub.status.busy": "2021-07-06T16:32:36.606276Z",
     "iopub.status.idle": "2021-07-06T16:32:36.639523Z",
     "shell.execute_reply": "2021-07-06T16:32:36.638541Z",
     "shell.execute_reply.started": "2021-07-06T16:32:36.606626Z"
    }
   },
   "outputs": [
    {
     "data": {
      "text/html": [
       "<div>\n",
       "<style scoped>\n",
       "    .dataframe tbody tr th:only-of-type {\n",
       "        vertical-align: middle;\n",
       "    }\n",
       "\n",
       "    .dataframe tbody tr th {\n",
       "        vertical-align: top;\n",
       "    }\n",
       "\n",
       "    .dataframe thead th {\n",
       "        text-align: right;\n",
       "    }\n",
       "</style>\n",
       "<table border=\"1\" class=\"dataframe\">\n",
       "  <thead>\n",
       "    <tr style=\"text-align: right;\">\n",
       "      <th></th>\n",
       "      <th>Area</th>\n",
       "      <th>BHK</th>\n",
       "      <th>Bathroom</th>\n",
       "      <th>Furnishing</th>\n",
       "      <th>Locality</th>\n",
       "      <th>Parking</th>\n",
       "      <th>Price</th>\n",
       "      <th>Status</th>\n",
       "      <th>Transaction</th>\n",
       "      <th>Type</th>\n",
       "      <th>Per_Sqft</th>\n",
       "    </tr>\n",
       "  </thead>\n",
       "  <tbody>\n",
       "    <tr>\n",
       "      <th>0</th>\n",
       "      <td>800.0</td>\n",
       "      <td>3</td>\n",
       "      <td>2.0</td>\n",
       "      <td>Semi-Furnished</td>\n",
       "      <td>Rohini Sector 25</td>\n",
       "      <td>1.0</td>\n",
       "      <td>6500000</td>\n",
       "      <td>Ready_to_move</td>\n",
       "      <td>New_Property</td>\n",
       "      <td>Builder_Floor</td>\n",
       "      <td>NaN</td>\n",
       "    </tr>\n",
       "    <tr>\n",
       "      <th>1</th>\n",
       "      <td>750.0</td>\n",
       "      <td>2</td>\n",
       "      <td>2.0</td>\n",
       "      <td>Semi-Furnished</td>\n",
       "      <td>J R Designers Floors, Rohini Sector 24</td>\n",
       "      <td>1.0</td>\n",
       "      <td>5000000</td>\n",
       "      <td>Ready_to_move</td>\n",
       "      <td>New_Property</td>\n",
       "      <td>Apartment</td>\n",
       "      <td>6667.0</td>\n",
       "    </tr>\n",
       "    <tr>\n",
       "      <th>2</th>\n",
       "      <td>950.0</td>\n",
       "      <td>2</td>\n",
       "      <td>2.0</td>\n",
       "      <td>Furnished</td>\n",
       "      <td>Citizen Apartment, Rohini Sector 13</td>\n",
       "      <td>1.0</td>\n",
       "      <td>15500000</td>\n",
       "      <td>Ready_to_move</td>\n",
       "      <td>Resale</td>\n",
       "      <td>Apartment</td>\n",
       "      <td>6667.0</td>\n",
       "    </tr>\n",
       "    <tr>\n",
       "      <th>3</th>\n",
       "      <td>600.0</td>\n",
       "      <td>2</td>\n",
       "      <td>2.0</td>\n",
       "      <td>Semi-Furnished</td>\n",
       "      <td>Rohini Sector 24</td>\n",
       "      <td>1.0</td>\n",
       "      <td>4200000</td>\n",
       "      <td>Ready_to_move</td>\n",
       "      <td>Resale</td>\n",
       "      <td>Builder_Floor</td>\n",
       "      <td>6667.0</td>\n",
       "    </tr>\n",
       "    <tr>\n",
       "      <th>4</th>\n",
       "      <td>650.0</td>\n",
       "      <td>2</td>\n",
       "      <td>2.0</td>\n",
       "      <td>Semi-Furnished</td>\n",
       "      <td>Rohini Sector 24 carpet area 650 sqft status R...</td>\n",
       "      <td>1.0</td>\n",
       "      <td>6200000</td>\n",
       "      <td>Ready_to_move</td>\n",
       "      <td>New_Property</td>\n",
       "      <td>Builder_Floor</td>\n",
       "      <td>6667.0</td>\n",
       "    </tr>\n",
       "  </tbody>\n",
       "</table>\n",
       "</div>"
      ],
      "text/plain": [
       "    Area  BHK  Bathroom      Furnishing  \\\n",
       "0  800.0    3       2.0  Semi-Furnished   \n",
       "1  750.0    2       2.0  Semi-Furnished   \n",
       "2  950.0    2       2.0       Furnished   \n",
       "3  600.0    2       2.0  Semi-Furnished   \n",
       "4  650.0    2       2.0  Semi-Furnished   \n",
       "\n",
       "                                            Locality  Parking     Price  \\\n",
       "0                                   Rohini Sector 25      1.0   6500000   \n",
       "1             J R Designers Floors, Rohini Sector 24      1.0   5000000   \n",
       "2                Citizen Apartment, Rohini Sector 13      1.0  15500000   \n",
       "3                                   Rohini Sector 24      1.0   4200000   \n",
       "4  Rohini Sector 24 carpet area 650 sqft status R...      1.0   6200000   \n",
       "\n",
       "          Status   Transaction           Type  Per_Sqft  \n",
       "0  Ready_to_move  New_Property  Builder_Floor       NaN  \n",
       "1  Ready_to_move  New_Property      Apartment    6667.0  \n",
       "2  Ready_to_move        Resale      Apartment    6667.0  \n",
       "3  Ready_to_move        Resale  Builder_Floor    6667.0  \n",
       "4  Ready_to_move  New_Property  Builder_Floor    6667.0  "
      ]
     },
     "execution_count": 3,
     "metadata": {},
     "output_type": "execute_result"
    }
   ],
   "source": [
    "# Lets check first five rows of the data\n",
    "df.head()"
   ]
  },
  {
   "cell_type": "code",
   "execution_count": 4,
   "metadata": {
    "execution": {
     "iopub.execute_input": "2021-07-06T16:32:36.641366Z",
     "iopub.status.busy": "2021-07-06T16:32:36.641071Z",
     "iopub.status.idle": "2021-07-06T16:32:36.647592Z",
     "shell.execute_reply": "2021-07-06T16:32:36.646607Z",
     "shell.execute_reply.started": "2021-07-06T16:32:36.641335Z"
    }
   },
   "outputs": [
    {
     "data": {
      "text/plain": [
       "(1259, 11)"
      ]
     },
     "execution_count": 4,
     "metadata": {},
     "output_type": "execute_result"
    }
   ],
   "source": [
    "# Data Shape\n",
    "df.shape"
   ]
  },
  {
   "cell_type": "code",
   "execution_count": 5,
   "metadata": {
    "execution": {
     "iopub.execute_input": "2021-07-06T16:32:36.649393Z",
     "iopub.status.busy": "2021-07-06T16:32:36.649025Z",
     "iopub.status.idle": "2021-07-06T16:32:36.665743Z",
     "shell.execute_reply": "2021-07-06T16:32:36.664701Z",
     "shell.execute_reply.started": "2021-07-06T16:32:36.649364Z"
    }
   },
   "outputs": [
    {
     "data": {
      "text/plain": [
       "Area             0\n",
       "BHK              0\n",
       "Bathroom         2\n",
       "Furnishing       5\n",
       "Locality         0\n",
       "Parking         33\n",
       "Price            0\n",
       "Status           0\n",
       "Transaction      0\n",
       "Type             5\n",
       "Per_Sqft       241\n",
       "dtype: int64"
      ]
     },
     "execution_count": 5,
     "metadata": {},
     "output_type": "execute_result"
    }
   ],
   "source": [
    "# lets check the missing values in dataframe\n",
    "df.isnull().sum()"
   ]
  },
  {
   "cell_type": "markdown",
   "metadata": {},
   "source": [
    "<p>As we can see that there are missing values present in our dataset which we need to handle.</p>"
   ]
  },
  {
   "cell_type": "code",
   "execution_count": 6,
   "metadata": {
    "execution": {
     "iopub.execute_input": "2021-07-06T16:32:36.667920Z",
     "iopub.status.busy": "2021-07-06T16:32:36.667470Z",
     "iopub.status.idle": "2021-07-06T16:32:36.693548Z",
     "shell.execute_reply": "2021-07-06T16:32:36.692206Z",
     "shell.execute_reply.started": "2021-07-06T16:32:36.667879Z"
    }
   },
   "outputs": [
    {
     "name": "stdout",
     "output_type": "stream",
     "text": [
      "<class 'pandas.core.frame.DataFrame'>\n",
      "RangeIndex: 1259 entries, 0 to 1258\n",
      "Data columns (total 11 columns):\n",
      " #   Column       Non-Null Count  Dtype  \n",
      "---  ------       --------------  -----  \n",
      " 0   Area         1259 non-null   float64\n",
      " 1   BHK          1259 non-null   int64  \n",
      " 2   Bathroom     1257 non-null   float64\n",
      " 3   Furnishing   1254 non-null   object \n",
      " 4   Locality     1259 non-null   object \n",
      " 5   Parking      1226 non-null   float64\n",
      " 6   Price        1259 non-null   int64  \n",
      " 7   Status       1259 non-null   object \n",
      " 8   Transaction  1259 non-null   object \n",
      " 9   Type         1254 non-null   object \n",
      " 10  Per_Sqft     1018 non-null   float64\n",
      "dtypes: float64(4), int64(2), object(5)\n",
      "memory usage: 108.3+ KB\n"
     ]
    }
   ],
   "source": [
    "df.info()"
   ]
  },
  {
   "cell_type": "markdown",
   "metadata": {},
   "source": [
    "### Data Preprocessing"
   ]
  },
  {
   "cell_type": "code",
   "execution_count": 7,
   "metadata": {
    "execution": {
     "iopub.execute_input": "2021-07-06T16:32:36.695635Z",
     "iopub.status.busy": "2021-07-06T16:32:36.695223Z",
     "iopub.status.idle": "2021-07-06T16:32:36.704489Z",
     "shell.execute_reply": "2021-07-06T16:32:36.703458Z",
     "shell.execute_reply.started": "2021-07-06T16:32:36.695596Z"
    }
   },
   "outputs": [],
   "source": [
    "def get_uniques(df, columns):\n",
    "    return {column: list(df[column].unique()) for column in columns if not column == 'Locality'}"
   ]
  },
  {
   "cell_type": "code",
   "execution_count": 8,
   "metadata": {
    "execution": {
     "iopub.execute_input": "2021-07-06T16:32:36.707105Z",
     "iopub.status.busy": "2021-07-06T16:32:36.706625Z",
     "iopub.status.idle": "2021-07-06T16:32:36.716258Z",
     "shell.execute_reply": "2021-07-06T16:32:36.715262Z",
     "shell.execute_reply.started": "2021-07-06T16:32:36.707071Z"
    }
   },
   "outputs": [],
   "source": [
    "def get_categorical_columns(df):\n",
    "    return [column for column in df.columns if df.dtypes[column] == 'object']"
   ]
  },
  {
   "cell_type": "code",
   "execution_count": 9,
   "metadata": {
    "execution": {
     "iopub.execute_input": "2021-07-06T16:32:36.718237Z",
     "iopub.status.busy": "2021-07-06T16:32:36.717670Z",
     "iopub.status.idle": "2021-07-06T16:32:36.733964Z",
     "shell.execute_reply": "2021-07-06T16:32:36.732825Z",
     "shell.execute_reply.started": "2021-07-06T16:32:36.718197Z"
    }
   },
   "outputs": [
    {
     "data": {
      "text/plain": [
       "{'Furnishing': ['Semi-Furnished', 'Furnished', 'Unfurnished', nan],\n",
       " 'Status': ['Ready_to_move', 'Almost_ready'],\n",
       " 'Transaction': ['New_Property', 'Resale'],\n",
       " 'Type': ['Builder_Floor', 'Apartment', nan]}"
      ]
     },
     "execution_count": 9,
     "metadata": {},
     "output_type": "execute_result"
    }
   ],
   "source": [
    "get_uniques(df, get_categorical_columns(df))"
   ]
  },
  {
   "cell_type": "code",
   "execution_count": 10,
   "metadata": {
    "execution": {
     "iopub.execute_input": "2021-07-06T16:32:36.736753Z",
     "iopub.status.busy": "2021-07-06T16:32:36.736299Z",
     "iopub.status.idle": "2021-07-06T16:32:36.745614Z",
     "shell.execute_reply": "2021-07-06T16:32:36.744467Z",
     "shell.execute_reply.started": "2021-07-06T16:32:36.736703Z"
    }
   },
   "outputs": [],
   "source": [
    "def onehot_encoder(df, column, rename=False):\n",
    "    df = df.copy()\n",
    "    if rename == True:\n",
    "        df[column] = df[column].replace({x: i for i, x in enumerate(df[column].unique())})\n",
    "    dummies_df = pd.get_dummies(df[column], prefix=column,drop_first=True)\n",
    "    df = pd.concat([df, dummies_df], axis=1)\n",
    "    df.drop(column, axis=1,inplace=True)\n",
    "    return df"
   ]
  },
  {
   "cell_type": "code",
   "execution_count": 11,
   "metadata": {
    "execution": {
     "iopub.execute_input": "2021-07-06T16:32:36.747742Z",
     "iopub.status.busy": "2021-07-06T16:32:36.747243Z",
     "iopub.status.idle": "2021-07-06T16:32:36.762840Z",
     "shell.execute_reply": "2021-07-06T16:32:36.761813Z",
     "shell.execute_reply.started": "2021-07-06T16:32:36.747672Z"
    }
   },
   "outputs": [],
   "source": [
    "def preprocess_inputs(df):\n",
    "    df = df.copy()\n",
    "    \n",
    "    # Drop Per_Sqft column\n",
    "    df.drop('Per_Sqft', axis=1,inplace=True)\n",
    "    \n",
    "    # Fill missing values by mode because they are categorical columns\n",
    "    missing_values_col = ['Bathroom', 'Parking', 'Type']\n",
    "    for col in missing_values_col:\n",
    "        df[col] = df[col].fillna(df[col].mode()[0])\n",
    "    \n",
    "    # One-hot encoding\n",
    "    df = onehot_encoder(df, column='Furnishing', rename=False)\n",
    "    df = onehot_encoder(df, column='Locality', rename=True)\n",
    "    \n",
    "    # Binary encoding\n",
    "    df['Status'] = df['Status'].replace({\n",
    "        'Almost_ready': 0,\n",
    "        'Ready_to_move': 1\n",
    "    })\n",
    "    df['Transaction'] = df['Transaction'].replace({\n",
    "        'New_Property': 0,\n",
    "        'Resale': 1\n",
    "    })\n",
    "    df['Type'] = df['Type'].replace({\n",
    "        'Builder_Floor': 0,\n",
    "        'Apartment': 1\n",
    "    })\n",
    "    \n",
    "    # Split data into X and y\n",
    "    y = df['Price']\n",
    "    X = df.drop('Price', axis=1)\n",
    "    \n",
    "    # Train-test split\n",
    "    X_train, X_test, y_train, y_test = train_test_split(X, y, test_size=0.3, shuffle=True, random_state=50)\n",
    "    \n",
    "    # Scale X\n",
    "    sc = StandardScaler()\n",
    "    X_train = pd.DataFrame(sc.fit_transform(X_train), index=X_train.index, columns=X_train.columns)\n",
    "    X_test = pd.DataFrame(sc.transform(X_test), index=X_test.index, columns=X_test.columns)\n",
    "    \n",
    "    return X_train, X_test, y_train, y_test"
   ]
  },
  {
   "cell_type": "code",
   "execution_count": 12,
   "metadata": {
    "execution": {
     "iopub.execute_input": "2021-07-06T16:32:36.764714Z",
     "iopub.status.busy": "2021-07-06T16:32:36.764159Z",
     "iopub.status.idle": "2021-07-06T16:32:36.931052Z",
     "shell.execute_reply": "2021-07-06T16:32:36.929952Z",
     "shell.execute_reply.started": "2021-07-06T16:32:36.764638Z"
    }
   },
   "outputs": [],
   "source": [
    "X_train, X_test, y_train, y_test = preprocess_inputs(df)"
   ]
  },
  {
   "cell_type": "code",
   "execution_count": 13,
   "metadata": {
    "execution": {
     "iopub.execute_input": "2021-07-06T16:32:36.932999Z",
     "iopub.status.busy": "2021-07-06T16:32:36.932612Z",
     "iopub.status.idle": "2021-07-06T16:32:39.386215Z",
     "shell.execute_reply": "2021-07-06T16:32:39.385093Z",
     "shell.execute_reply.started": "2021-07-06T16:32:36.932961Z"
    }
   },
   "outputs": [
    {
     "data": {
      "text/html": [
       "<style  type=\"text/css\" >\n",
       "</style><table id=\"T_330e4_\" ><thead>    <tr>        <th class=\"blank level0\" ></th>        <th class=\"col_heading level0 col0\" >Model Names</th>        <th class=\"col_heading level0 col1\" >R2 Score</th>    </tr></thead><tbody>\n",
       "                <tr>\n",
       "                        <th id=\"T_330e4_level0_row0\" class=\"row_heading level0 row0\" >0</th>\n",
       "                        <td id=\"T_330e4_row0_col0\" class=\"data row0 col0\" >LinearRegression</td>\n",
       "                        <td id=\"T_330e4_row0_col1\" class=\"data row0 col1\" >-13359109501068867159457792.00000</td>\n",
       "            </tr>\n",
       "            <tr>\n",
       "                        <th id=\"T_330e4_level0_row1\" class=\"row_heading level0 row1\" >1</th>\n",
       "                        <td id=\"T_330e4_row1_col0\" class=\"data row1 col0\" >Lasso</td>\n",
       "                        <td id=\"T_330e4_row1_col1\" class=\"data row1 col1\" >0.57197</td>\n",
       "            </tr>\n",
       "            <tr>\n",
       "                        <th id=\"T_330e4_level0_row2\" class=\"row_heading level0 row2\" >2</th>\n",
       "                        <td id=\"T_330e4_row2_col0\" class=\"data row2 col0\" >Ridge</td>\n",
       "                        <td id=\"T_330e4_row2_col1\" class=\"data row2 col1\" >0.57759</td>\n",
       "            </tr>\n",
       "            <tr>\n",
       "                        <th id=\"T_330e4_level0_row3\" class=\"row_heading level0 row3\" >3</th>\n",
       "                        <td id=\"T_330e4_row3_col0\" class=\"data row3 col0\" >KNeighborsRegressor</td>\n",
       "                        <td id=\"T_330e4_row3_col1\" class=\"data row3 col1\" >0.50630</td>\n",
       "            </tr>\n",
       "            <tr>\n",
       "                        <th id=\"T_330e4_level0_row4\" class=\"row_heading level0 row4\" >4</th>\n",
       "                        <td id=\"T_330e4_row4_col0\" class=\"data row4 col0\" >DecisionTreeRegressor</td>\n",
       "                        <td id=\"T_330e4_row4_col1\" class=\"data row4 col1\" >0.69448</td>\n",
       "            </tr>\n",
       "            <tr>\n",
       "                        <th id=\"T_330e4_level0_row5\" class=\"row_heading level0 row5\" >5</th>\n",
       "                        <td id=\"T_330e4_row5_col0\" class=\"data row5 col0\" >RandomForestRegressor</td>\n",
       "                        <td id=\"T_330e4_row5_col1\" class=\"data row5 col1\" >0.76096</td>\n",
       "            </tr>\n",
       "            <tr>\n",
       "                        <th id=\"T_330e4_level0_row6\" class=\"row_heading level0 row6\" >6</th>\n",
       "                        <td id=\"T_330e4_row6_col0\" class=\"data row6 col0\" >XGBRegressor</td>\n",
       "                        <td id=\"T_330e4_row6_col1\" class=\"data row6 col1\" >0.78661</td>\n",
       "            </tr>\n",
       "    </tbody></table>"
      ],
      "text/plain": [
       "<pandas.io.formats.style.Styler at 0x7ff99690bc50>"
      ]
     },
     "execution_count": 13,
     "metadata": {},
     "output_type": "execute_result"
    }
   ],
   "source": [
    "# Models\n",
    "models = [\n",
    "    LinearRegression(),\n",
    "    Lasso(),\n",
    "    Ridge(),\n",
    "    KNeighborsRegressor(),\n",
    "    DecisionTreeRegressor(),\n",
    "    RandomForestRegressor(),\n",
    "    XGBRegressor()\n",
    "]\n",
    "model_names = [\n",
    "    'LinearRegression',\n",
    "    'Lasso',\n",
    "    'Ridge',\n",
    "    'KNeighborsRegressor',\n",
    "    'DecisionTreeRegressor',\n",
    "    'RandomForestRegressor',\n",
    "    'XGBRegressor']\n",
    "\n",
    "score = []\n",
    "dictionary = {}\n",
    "for model in range(len(models)):\n",
    "    reg = models[model]\n",
    "    reg.fit(X_train,y_train)\n",
    "    y_pred = reg.predict(X_test)\n",
    "    score.append(r2_score(y_test,y_pred))\n",
    "     \n",
    "dictionary = {'Model Names':model_names,'R2 Score': score}\n",
    "# Put the accuracies in a data frame.\n",
    "score_df = pd.DataFrame(dictionary)\n",
    "score_df.style.set_precision(5)"
   ]
  },
  {
   "cell_type": "markdown",
   "metadata": {},
   "source": [
    "### Hyperparamter Tuning"
   ]
  },
  {
   "cell_type": "code",
   "execution_count": 15,
   "metadata": {
    "execution": {
     "iopub.execute_input": "2021-07-06T16:43:20.701725Z",
     "iopub.status.busy": "2021-07-06T16:43:20.701340Z",
     "iopub.status.idle": "2021-07-06T16:43:20.708996Z",
     "shell.execute_reply": "2021-07-06T16:43:20.708010Z",
     "shell.execute_reply.started": "2021-07-06T16:43:20.701669Z"
    }
   },
   "outputs": [],
   "source": [
    "model_params = {\n",
    "    'XGBRegressor':{\n",
    "        'model':XGBRegressor(),\n",
    "        'params':{\n",
    "            'learning_rate': [0.01, 0.1],\n",
    "            'max_depth': [3, 5, 7, 10],\n",
    "            'min_child_weight': [1, 3, 5],\n",
    "            'subsample': [0.5, 0.7],\n",
    "            'colsample_bytree': [0.5, 0.7],\n",
    "            'n_estimators' : [100, 200, 500],\n",
    "            'objective': ['reg:squarederror']\n",
    "        }\n",
    "    },\n",
    "\n",
    "    'RandomForestRegressor':{\n",
    "        'model':RandomForestRegressor(),\n",
    "        'params':{\n",
    "            'n_estimators':range(100,300,50),\n",
    "            'criterion':['mse','mae'],\n",
    "            'max_features':['auto', 'sqrt', 'log2']\n",
    "        }\n",
    "    }\n",
    "}"
   ]
  },
  {
   "cell_type": "code",
   "execution_count": 18,
   "metadata": {
    "execution": {
     "iopub.execute_input": "2021-07-06T16:44:19.262596Z",
     "iopub.status.busy": "2021-07-06T16:44:19.262233Z",
     "iopub.status.idle": "2021-07-06T17:19:50.499805Z",
     "shell.execute_reply": "2021-07-06T17:19:50.498733Z",
     "shell.execute_reply.started": "2021-07-06T16:44:19.262566Z"
    }
   },
   "outputs": [],
   "source": [
    "scores = []\n",
    "for model_name,model in model_params.items():\n",
    "    grid = GridSearchCV(model['model'],model['params'],cv=5,return_train_score=False,scoring='r2')\n",
    "    grid.fit(X_train,y_train)\n",
    "    scores.append({\n",
    "      'model':model_name,\n",
    "      'best_score':grid.best_score_,\n",
    "      'best_params':grid.best_params_\n",
    "  })"
   ]
  },
  {
   "cell_type": "code",
   "execution_count": 19,
   "metadata": {
    "execution": {
     "iopub.execute_input": "2021-07-06T17:23:56.508397Z",
     "iopub.status.busy": "2021-07-06T17:23:56.507949Z",
     "iopub.status.idle": "2021-07-06T17:23:56.523962Z",
     "shell.execute_reply": "2021-07-06T17:23:56.522988Z",
     "shell.execute_reply.started": "2021-07-06T17:23:56.508356Z"
    }
   },
   "outputs": [
    {
     "data": {
      "text/html": [
       "<div>\n",
       "<style scoped>\n",
       "    .dataframe tbody tr th:only-of-type {\n",
       "        vertical-align: middle;\n",
       "    }\n",
       "\n",
       "    .dataframe tbody tr th {\n",
       "        vertical-align: top;\n",
       "    }\n",
       "\n",
       "    .dataframe thead th {\n",
       "        text-align: right;\n",
       "    }\n",
       "</style>\n",
       "<table border=\"1\" class=\"dataframe\">\n",
       "  <thead>\n",
       "    <tr style=\"text-align: right;\">\n",
       "      <th></th>\n",
       "      <th>model</th>\n",
       "      <th>best_score</th>\n",
       "      <th>best_params</th>\n",
       "    </tr>\n",
       "  </thead>\n",
       "  <tbody>\n",
       "    <tr>\n",
       "      <th>0</th>\n",
       "      <td>XGBRegressor</td>\n",
       "      <td>0.804390</td>\n",
       "      <td>{'colsample_bytree': 0.7, 'learning_rate': 0.0...</td>\n",
       "    </tr>\n",
       "    <tr>\n",
       "      <th>1</th>\n",
       "      <td>RandomForestRegressor</td>\n",
       "      <td>0.796904</td>\n",
       "      <td>{'criterion': 'mae', 'max_features': 'auto', '...</td>\n",
       "    </tr>\n",
       "  </tbody>\n",
       "</table>\n",
       "</div>"
      ],
      "text/plain": [
       "                   model  best_score  \\\n",
       "0           XGBRegressor    0.804390   \n",
       "1  RandomForestRegressor    0.796904   \n",
       "\n",
       "                                         best_params  \n",
       "0  {'colsample_bytree': 0.7, 'learning_rate': 0.0...  \n",
       "1  {'criterion': 'mae', 'max_features': 'auto', '...  "
      ]
     },
     "execution_count": 19,
     "metadata": {},
     "output_type": "execute_result"
    }
   ],
   "source": [
    "df_scores = pd.DataFrame(scores,columns=['model','best_score','best_params'])\n",
    "df_scores"
   ]
  },
  {
   "cell_type": "markdown",
   "metadata": {},
   "source": [
    "### Best Fit"
   ]
  },
  {
   "cell_type": "code",
   "execution_count": 24,
   "metadata": {
    "execution": {
     "iopub.execute_input": "2021-07-06T17:31:21.148520Z",
     "iopub.status.busy": "2021-07-06T17:31:21.148070Z",
     "iopub.status.idle": "2021-07-06T17:31:24.158358Z",
     "shell.execute_reply": "2021-07-06T17:31:24.157535Z",
     "shell.execute_reply.started": "2021-07-06T17:31:21.148479Z"
    }
   },
   "outputs": [
    {
     "name": "stdout",
     "output_type": "stream",
     "text": [
      " R^2 Score: 0.79267\n"
     ]
    }
   ],
   "source": [
    "## XGBoost\n",
    "xgb = XGBRegressor(\n",
    "    colsample_bytree= 0.7,\n",
    "    learning_rate= 0.01,\n",
    "    max_depth= 7,\n",
    "    min_child_weight = 1,\n",
    "    n_estimators=500,\n",
    "    objective = 'reg:squarederror',\n",
    "    subsample= 0.7\n",
    ")\n",
    "\n",
    "xgb.fit(X_train,y_train)\n",
    "xgb_pred = xgb.predict(X_test)\n",
    "\n",
    "print(\" R^2 Score: {:.5f}\".format(r2_score(y_test,xgb_pred)))"
   ]
  },
  {
   "cell_type": "code",
   "execution_count": 25,
   "metadata": {
    "execution": {
     "iopub.execute_input": "2021-07-06T17:34:18.428543Z",
     "iopub.status.busy": "2021-07-06T17:34:18.427894Z",
     "iopub.status.idle": "2021-07-06T17:34:50.878089Z",
     "shell.execute_reply": "2021-07-06T17:34:50.876958Z",
     "shell.execute_reply.started": "2021-07-06T17:34:18.428487Z"
    }
   },
   "outputs": [
    {
     "name": "stdout",
     "output_type": "stream",
     "text": [
      " R^2 Score: 0.77872\n"
     ]
    }
   ],
   "source": [
    "## Random Forest\n",
    "rf = RandomForestRegressor(\n",
    "    criterion= 'mae',\n",
    "    max_features = 'auto',\n",
    "    n_estimators= 250\n",
    ")\n",
    "\n",
    "rf.fit(X_train,y_train)\n",
    "rf_pred = rf.predict(X_test)\n",
    "\n",
    "print(\" R^2 Score: {:.5f}\".format(r2_score(y_test,rf_pred)))"
   ]
  },
  {
   "cell_type": "code",
   "execution_count": 26,
   "metadata": {
    "execution": {
     "iopub.execute_input": "2021-07-06T17:39:52.239901Z",
     "iopub.status.busy": "2021-07-06T17:39:52.239434Z",
     "iopub.status.idle": "2021-07-06T17:39:52.320609Z",
     "shell.execute_reply": "2021-07-06T17:39:52.319345Z",
     "shell.execute_reply.started": "2021-07-06T17:39:52.239858Z"
    }
   },
   "outputs": [],
   "source": [
    "# Save the tuned Model to file in the current working directory\n",
    "import pickle\n",
    "\n",
    "Pkl_Filename = \"XGB.pkl\"  \n",
    "\n",
    "with open(Pkl_Filename, 'wb') as file:  \n",
    "    pickle.dump(xgb, file)"
   ]
  },
  {
   "cell_type": "code",
   "execution_count": null,
   "metadata": {},
   "outputs": [],
   "source": []
  }
 ],
 "metadata": {
  "kernelspec": {
   "display_name": "Python 3",
   "language": "python",
   "name": "python3"
  },
  "language_info": {
   "codemirror_mode": {
    "name": "ipython",
    "version": 3
   },
   "file_extension": ".py",
   "mimetype": "text/x-python",
   "name": "python",
   "nbconvert_exporter": "python",
   "pygments_lexer": "ipython3",
   "version": "3.7.7"
  }
 },
 "nbformat": 4,
 "nbformat_minor": 4
}
